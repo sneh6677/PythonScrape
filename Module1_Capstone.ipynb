{
 "cells": [
  {
   "cell_type": "code",
   "execution_count": 2,
   "id": "46a9f656-3bde-4033-a2d6-e63bd090e26e",
   "metadata": {
    "tags": []
   },
   "outputs": [
    {
     "name": "stdout",
     "output_type": "stream",
     "text": [
      "<Response [200]>\n"
     ]
    },
    {
     "data": {
      "text/plain": [
       "Index(['Id', 'Job Title', 'Job Experience Required', 'Key Skills',\n",
       "       'Role Category', 'Location', 'Functional Area', 'Industry', 'Role'],\n",
       "      dtype='object')"
      ]
     },
     "execution_count": 2,
     "metadata": {},
     "output_type": "execute_result"
    }
   ],
   "source": [
    "import requests # you need this module to make an API call\n",
    "import pandas as pd\n",
    "\n",
    "api_url=\"https://cf-courses-data.s3.us.cloud-object-storage.appdomain.cloud/IBM-DA0321EN-SkillsNetwork/labs/module%201/Accessing%20Data%20Using%20APIs/jobs.json\"\n",
    "response = requests.get(api_url)\n",
    "print(response)\n",
    "if response.ok:             # if all is well() no errors, no network timeouts)\n",
    "    data = response.json()\n",
    "#print(data)\n",
    "\n",
    "df = pd.DataFrame(data)\n",
    "\n",
    "df.head()\n",
    "df.columns"
   ]
  },
  {
   "cell_type": "code",
   "execution_count": 3,
   "id": "76301d83-6ac7-45a0-b298-29432d21e006",
   "metadata": {
    "tags": []
   },
   "outputs": [
    {
     "data": {
      "text/plain": [
       "('Python', 1173)"
      ]
     },
     "execution_count": 3,
     "metadata": {},
     "output_type": "execute_result"
    }
   ],
   "source": [
    "def get_number_of_jobs_T(technology):\n",
    "    key_skill_list = df['Key Skills'].tolist()\n",
    "    tech_count = sum(technology in skills for skills in key_skill_list)\n",
    "    \n",
    "    return technology,tech_count\n",
    "\n",
    "\n",
    "\n",
    "#print(key_skill_list)\n",
    "\n",
    "\n",
    "\n",
    "get_number_of_jobs_T(\"Python\")"
   ]
  },
  {
   "cell_type": "code",
   "execution_count": 4,
   "id": "524a2a25-e2f5-4087-95da-632476e0b51e",
   "metadata": {
    "tags": []
   },
   "outputs": [
    {
     "data": {
      "text/plain": [
       "('Los Angeles', 640)"
      ]
     },
     "execution_count": 4,
     "metadata": {},
     "output_type": "execute_result"
    }
   ],
   "source": [
    "def get_number_of_jobs_L(target_location):\n",
    "    location = df['Location'].tolist()\n",
    "    job_count = sum(target_location in job for job in location)\n",
    "    #your coe goes here\n",
    "    return target_location,job_count\n",
    "\n",
    "\n",
    "get_number_of_jobs_L(\"Los Angeles\")"
   ]
  },
  {
   "cell_type": "code",
   "execution_count": 23,
   "id": "70c916ac-5710-49f1-8b8b-142ee2530791",
   "metadata": {
    "tags": []
   },
   "outputs": [
    {
     "data": {
      "text/plain": [
       "0      Los Angeles\n",
       "1         New York\n",
       "2    San Francisco\n",
       "3    Washington DC\n",
       "4           Boston\n",
       "Name: Location, dtype: object"
      ]
     },
     "execution_count": 23,
     "metadata": {},
     "output_type": "execute_result"
    }
   ],
   "source": [
    "location = df['Location']\n",
    "location.head()"
   ]
  },
  {
   "cell_type": "code",
   "execution_count": 6,
   "id": "4037b510-9c85-4e82-a435-e0b80f6faf53",
   "metadata": {
    "tags": []
   },
   "outputs": [
    {
     "name": "stdout",
     "output_type": "stream",
     "text": [
      "Collecting openpyxl\n",
      "  Downloading openpyxl-3.1.3-py2.py3-none-any.whl (251 kB)\n",
      "\u001b[2K     \u001b[90m━━━━━━━━━━━━━━━━━━━━━━━━━━━━━━━━━━━━━━\u001b[0m \u001b[32m251.3/251.3 kB\u001b[0m \u001b[31m20.7 MB/s\u001b[0m eta \u001b[36m0:00:00\u001b[0m\n",
      "\u001b[?25hCollecting et-xmlfile (from openpyxl)\n",
      "  Downloading et_xmlfile-1.1.0-py3-none-any.whl (4.7 kB)\n",
      "Installing collected packages: et-xmlfile, openpyxl\n",
      "Successfully installed et-xmlfile-1.1.0 openpyxl-3.1.3\n"
     ]
    }
   ],
   "source": [
    "!pip install openpyxl"
   ]
  },
  {
   "cell_type": "code",
   "execution_count": 8,
   "id": "602a53f5-9633-41d5-a61e-14de883916af",
   "metadata": {
    "tags": []
   },
   "outputs": [
    {
     "name": "stdout",
     "output_type": "stream",
     "text": [
      "Results saved to 'job_postings_by_technology.xlsx'\n"
     ]
    }
   ],
   "source": [
    "from openpyxl import Workbook \n",
    "\n",
    "technologies = [\n",
    "    \"WCF\", \"ASP.Net\", \"JQuery\", \"MVC\", \"C#\", \"Javascript\", \"SQL Server\",\n",
    "    \".NET Framework\", \"Angularjs\", \"Web Services\", \"Python\"\n",
    "]\n",
    "\n",
    "results = [get_number_of_jobs_T(tech) for tech in technologies]\n",
    "\n",
    "\n",
    "#results_df = pd.DataFrame(results, columns=['Technology', 'Number of Job Postings'])\n",
    "\n",
    "\n",
    "#results_df.to_excel('job_postings_by_technology.xlsx', index=False)\n",
    "\n",
    "wb=Workbook()                       \n",
    "ws=wb.active                        \n",
    "ws.append([\"Technology\", \"Number of Job Postings\"])\n",
    "\n",
    "for row in results:\n",
    "    ws.append(row)\n",
    "    \n",
    "wb.save(\"github-job-postings.xlsx\")\n",
    "\n",
    "print(\"Results saved to 'github-job-postings.xlsx'\")"
   ]
  },
  {
   "cell_type": "code",
   "execution_count": null,
   "id": "1d8bb213-0ca5-4127-ae83-95bf3c10e1e3",
   "metadata": {},
   "outputs": [],
   "source": []
  }
 ],
 "metadata": {
  "kernelspec": {
   "display_name": "Python",
   "language": "python",
   "name": "conda-env-python-py"
  },
  "language_info": {
   "codemirror_mode": {
    "name": "ipython",
    "version": 3
   },
   "file_extension": ".py",
   "mimetype": "text/x-python",
   "name": "python",
   "nbconvert_exporter": "python",
   "pygments_lexer": "ipython3",
   "version": "3.7.12"
  }
 },
 "nbformat": 4,
 "nbformat_minor": 5
}
