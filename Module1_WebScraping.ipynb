{
 "cells": [
  {
   "cell_type": "code",
   "execution_count": 1,
   "id": "5eac0599-ff87-4af8-bb6f-47b28bde7bf2",
   "metadata": {
    "tags": []
   },
   "outputs": [
    {
     "name": "stdout",
     "output_type": "stream",
     "text": [
      "Data saved to 'popular-languages.csv'\n"
     ]
    }
   ],
   "source": [
    "import requests\n",
    "from bs4 import BeautifulSoup\n",
    "import pandas as pd\n",
    "\n",
    "\n",
    "url = \"https://cf-courses-data.s3.us.cloud-object-storage.appdomain.cloud/IBM-DA0321EN-SkillsNetwork/labs/datasets/Programming_Languages.html\"\n",
    "\n",
    "\n",
    "response = requests.get(url)\n",
    "html_content = response.text\n",
    "\n",
    "\n",
    "soup = BeautifulSoup(html_content, 'html.parser')\n",
    "table = soup.find('table')\n",
    "\n",
    "\n",
    "headers = [header.text for header in table.find_all('th')]\n",
    "data = []\n",
    "for row in table.find_all('tr')[1:]: \n",
    "    columns = row.find_all('td')\n",
    "    language = columns[0].text.strip()\n",
    "    salary = columns[1].text.strip()\n",
    "    data.append([language, salary])\n",
    "\n",
    "\n",
    "df = pd.DataFrame(data, columns=['Language', 'Annual Average Salary'])\n",
    "\n",
    "\n",
    "df.to_csv('popular-languages.csv', index=False)\n",
    "\n",
    "print(\"Data saved to 'popular-languages.csv'\")"
   ]
  },
  {
   "cell_type": "code",
   "execution_count": null,
   "id": "f385b18d-1ec8-4f30-b811-96bc09dec271",
   "metadata": {},
   "outputs": [],
   "source": []
  }
 ],
 "metadata": {
  "kernelspec": {
   "display_name": "Python",
   "language": "python",
   "name": "conda-env-python-py"
  },
  "language_info": {
   "codemirror_mode": {
    "name": "ipython",
    "version": 3
   },
   "file_extension": ".py",
   "mimetype": "text/x-python",
   "name": "python",
   "nbconvert_exporter": "python",
   "pygments_lexer": "ipython3",
   "version": "3.7.12"
  }
 },
 "nbformat": 4,
 "nbformat_minor": 5
}
