{
 "cells": [
  {
   "cell_type": "code",
   "execution_count": 3,
   "id": "5cbbecba-a8ab-4d9b-9296-5ec40e486a3d",
   "metadata": {
    "tags": []
   },
   "outputs": [
    {
     "name": "stdout",
     "output_type": "stream",
     "text": [
      "30.77239449133718\n",
      "num_rows, num_columns 11552 85\n",
      "['United States' 'New Zealand' 'United Kingdom' 'Australia' 'Brazil'\n",
      " 'Lithuania' 'Israel' 'South Africa' 'Czech Republic' 'Spain' 'Germany'\n",
      " 'Serbia' 'India' 'Sweden' 'China' 'France' 'Netherlands' 'Philippines'\n",
      " 'Ireland' 'Pakistan' 'Austria' 'Canada' 'Croatia' 'Italy'\n",
      " 'Russian Federation' 'Argentina' 'Romania' 'Iran' 'Hungary' 'Latvia'\n",
      " 'Hong Kong (S.A.R.)' 'United Arab Emirates' 'Poland' 'Portugal'\n",
      " 'Bulgaria' 'Nicaragua' 'Denmark' 'Japan' 'Guatemala' 'Bangladesh'\n",
      " 'Ukraine' 'Mexico' 'Egypt' 'Switzerland' 'Mauritius' 'South Korea'\n",
      " 'Slovenia' 'Estonia' 'Norway' 'Singapore' 'Republic of Moldova' 'Belgium'\n",
      " 'Nigeria' 'Turkey' 'Thailand' 'Mongolia' 'Chile' 'Malaysia' 'Georgia'\n",
      " 'Luxembourg' 'Dominican Republic' 'Cape Verde' 'Burundi' 'Finland'\n",
      " 'Greece' 'Colombia' 'Taiwan' 'Yemen' 'Indonesia' 'Belarus' 'Slovakia'\n",
      " 'Nepal' 'Kenya' 'Venezuela, Bolivarian Republic of...' 'Armenia' 'Panama'\n",
      " 'Lebanon' 'Kuwait' 'Algeria' \"Côte d'Ivoire\" 'Bosnia and Herzegovina'\n",
      " 'Brunei Darussalam' 'Costa Rica' 'Jordan' 'Zimbabwe' 'Ecuador' 'Albania'\n",
      " 'Azerbaijan' 'Other Country (Not Listed Above)' 'Uzbekistan'\n",
      " 'The former Yugoslav Republic of Macedonia' 'Sri Lanka' 'Ghana'\n",
      " 'Paraguay' 'Peru' 'Viet Nam' 'Malta' 'Rwanda' 'El Salvador' 'Uruguay'\n",
      " 'Tunisia' 'Bolivia' 'Honduras' 'Liechtenstein' 'Qatar' 'Cameroon'\n",
      " 'Turkmenistan' 'Kyrgyzstan' 'Somalia' 'Republic of Korea' 'Cuba'\n",
      " 'Montenegro' 'Monaco' 'Cyprus' 'Uganda' 'Senegal' 'Syrian Arab Republic'\n",
      " 'Morocco' 'Ethiopia' 'United Republic of Tanzania' 'Iceland' 'Swaziland'\n",
      " 'Congo, Republic of the...' 'Saudi Arabia' 'Afghanistan' 'Bahrain'\n",
      " 'Timor-Leste' 'Jamaica' 'Myanmar' 'Sudan' 'Libyan Arab Jamahiriya' 'Togo'\n",
      " 'Cambodia' 'Mozambique' 'Iraq']\n"
     ]
    }
   ],
   "source": [
    "import pandas as pd\n",
    "\n",
    "dataset_url = \"https://cf-courses-data.s3.us.cloud-object-storage.appdomain.cloud/IBM-DA0321EN-SkillsNetwork/LargeData/m1_survey_data.csv\"\n",
    "\n",
    "df = pd.read_csv(dataset_url)\n",
    "\n",
    "df.head()\n",
    "\n",
    "df.dtypes\n",
    "\n",
    "num_rows, num_columns = df.shape\n",
    "\n",
    "print(df['Age'].mean())\n",
    "\n",
    "print(\"num_rows, num_columns\", num_rows, num_columns)\n",
    "\n",
    "unique_values = df['Country'].unique()\n",
    "\n",
    "print(unique_values)"
   ]
  },
  {
   "cell_type": "code",
   "execution_count": null,
   "id": "2c7bb54e-2ca5-4f69-b643-e816f9185238",
   "metadata": {},
   "outputs": [],
   "source": []
  }
 ],
 "metadata": {
  "kernelspec": {
   "display_name": "Python",
   "language": "python",
   "name": "conda-env-python-py"
  },
  "language_info": {
   "codemirror_mode": {
    "name": "ipython",
    "version": 3
   },
   "file_extension": ".py",
   "mimetype": "text/x-python",
   "name": "python",
   "nbconvert_exporter": "python",
   "pygments_lexer": "ipython3",
   "version": "3.7.12"
  }
 },
 "nbformat": 4,
 "nbformat_minor": 5
}
